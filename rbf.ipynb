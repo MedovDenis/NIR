{
 "cells": [
  {
   "cell_type": "code",
   "execution_count": 102,
   "metadata": {},
   "outputs": [],
   "source": [
    "import numpy as np\n",
    "\n",
    "def gaussian(x, mu, sig):\n",
    "    return np.exp(-np.power(np.linalg.norm(x - mu), 2.) / (2 * np.power(sig, 2.)))"
   ]
  },
  {
   "cell_type": "code",
   "execution_count": 201,
   "metadata": {},
   "outputs": [],
   "source": [
    "x = np.linspace(1, 11, 3)\n",
    "mu = np.linspace(1, 1, 1)\n",
    "\n",
    "b = gaussian(x, mu, 1)"
   ]
  },
  {
   "cell_type": "code",
   "execution_count": 191,
   "metadata": {},
   "outputs": [],
   "source": [
    "y_arr = np.random.default_rng(seed=34).random(1)\n",
    "x_arr = np.random.default_rng(seed=42).random((1, 4))\n",
    "mu_arr = np.random.default_rng(seed=21).random(4)\n",
    "\n",
    "h = np.array([[gaussian(val, mu_arr, 1)] * 4 for val in x_arr])"
   ]
  },
  {
   "cell_type": "code",
   "execution_count": 192,
   "metadata": {},
   "outputs": [],
   "source": [
    "a = np.dot(h.T, h)\n",
    "\n",
    "w = np.dot(a, h.T) * y_arr"
   ]
  }
 ],
 "metadata": {
  "interpreter": {
   "hash": "50e86f8ea60741f80c2cd487c9faa5e8b76b9486f569007eef736515428079eb"
  },
  "kernelspec": {
   "display_name": "Python 3.9.6 64-bit ('venv': venv)",
   "language": "python",
   "name": "python3"
  },
  "language_info": {
   "codemirror_mode": {
    "name": "ipython",
    "version": 3
   },
   "file_extension": ".py",
   "mimetype": "text/x-python",
   "name": "python",
   "nbconvert_exporter": "python",
   "pygments_lexer": "ipython3",
   "version": "3.9.6"
  },
  "orig_nbformat": 4
 },
 "nbformat": 4,
 "nbformat_minor": 2
}
